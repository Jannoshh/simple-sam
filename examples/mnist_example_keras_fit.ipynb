{
 "cells": [
  {
   "cell_type": "code",
   "execution_count": 10,
   "metadata": {},
   "outputs": [],
   "source": [
    "import tensorflow as tf\n",
    "\n",
    "from tensorflow.keras.layers import Dense, Flatten, Conv2D, Input\n",
    "from tensorflow.keras import Model, mixed_precision\n",
    "\n",
    "import os\n",
    "\n",
    "os.chdir('..')"
   ]
  },
  {
   "cell_type": "code",
   "execution_count": 11,
   "metadata": {},
   "outputs": [],
   "source": [
    "mnist = tf.keras.datasets.mnist\n",
    "\n",
    "(x_train, y_train), (x_test, y_test) = mnist.load_data()\n",
    "x_train, x_test = x_train / 255.0, x_test / 255.0\n",
    "\n",
    "# Add a channels dimension\n",
    "x_train = x_train[..., tf.newaxis].astype(\"float32\")\n",
    "x_test = x_test[..., tf.newaxis].astype(\"float32\")"
   ]
  },
  {
   "cell_type": "code",
   "execution_count": 12,
   "metadata": {},
   "outputs": [],
   "source": [
    "train_ds = tf.data.Dataset.from_tensor_slices((x_train, y_train)).shuffle(10000).batch(32)\n",
    "\n",
    "test_ds = tf.data.Dataset.from_tensor_slices((x_test, y_test)).batch(32)"
   ]
  },
  {
   "cell_type": "code",
   "execution_count": 30,
   "metadata": {},
   "outputs": [],
   "source": [
    "from sam import sam_train_step\n",
    "\n",
    "class MyModel(Model):\n",
    "  def __init__(self):\n",
    "    super(MyModel, self).__init__()\n",
    "    self.conv1 = Conv2D(32, 3, activation='relu')\n",
    "    self.flatten = Flatten()\n",
    "    self.d1 = Dense(128, activation='relu')\n",
    "    self.d2 = Dense(10, dtype='float32')\n",
    "\n",
    "  def call(self, x):\n",
    "    x = self.conv1(x)\n",
    "    x = self.flatten(x)\n",
    "    x = self.d1(x)\n",
    "    return self.d2(x)\n",
    "\n",
    "class MyModelSAM(Model):\n",
    "  def __init__(self):\n",
    "    super(MyModelSAM, self).__init__()\n",
    "    self.conv1 = Conv2D(32, 3, activation='relu')\n",
    "    self.flatten = Flatten()\n",
    "    self.d1 = Dense(128, activation='relu')\n",
    "    self.d2 = Dense(10, dtype='float32')\n",
    "\n",
    "  def call(self, x):\n",
    "    x = self.conv1(x)\n",
    "    x = self.flatten(x)\n",
    "    x = self.d1(x)\n",
    "    return self.d2(x)\n",
    "  \n",
    "  def train_step(self, data):\n",
    "    return sam_train_step(self, data)\n",
    "\n",
    "# Create an instance of the model\n",
    "model = MyModel()\n",
    "model.build((None, 28, 28, 1))\n",
    "sam_model = MyModelSAM()\n",
    "sam_model.build((None, 28, 28, 1))\n",
    "sam_model.set_weights(model.get_weights())"
   ]
  },
  {
   "cell_type": "code",
   "execution_count": 31,
   "metadata": {},
   "outputs": [
    {
     "name": "stdout",
     "output_type": "stream",
     "text": [
      "Epoch 1/5\n",
      "1875/1875 [==============================] - 61s 32ms/step - loss: 0.1343 - accuracy: 0.9597 - val_loss: 0.0720 - val_accuracy: 0.9759\n",
      "Epoch 2/5\n",
      "1875/1875 [==============================] - 59s 32ms/step - loss: 0.0502 - accuracy: 0.9853 - val_loss: 0.0495 - val_accuracy: 0.9839\n",
      "Epoch 3/5\n",
      "1875/1875 [==============================] - 59s 32ms/step - loss: 0.0331 - accuracy: 0.9903 - val_loss: 0.0513 - val_accuracy: 0.9853\n",
      "Epoch 4/5\n",
      "1875/1875 [==============================] - 60s 32ms/step - loss: 0.0237 - accuracy: 0.9934 - val_loss: 0.0513 - val_accuracy: 0.9857\n",
      "Epoch 5/5\n",
      "1875/1875 [==============================] - 59s 31ms/step - loss: 0.0168 - accuracy: 0.9957 - val_loss: 0.0555 - val_accuracy: 0.9854\n"
     ]
    },
    {
     "data": {
      "text/plain": [
       "<keras.callbacks.History at 0x2478604c8e0>"
      ]
     },
     "execution_count": 31,
     "metadata": {},
     "output_type": "execute_result"
    }
   ],
   "source": [
    "model.compile(optimizer=tf.keras.optimizers.RMSprop(learning_rate=0.001, rho=0.9, momentum=0.0, epsilon=1e-07, centered=False),\n",
    "              loss=tf.keras.losses.SparseCategoricalCrossentropy(from_logits=True),\n",
    "              metrics=['accuracy'])\n",
    "model.fit(train_ds,\n",
    "          epochs=5,\n",
    "          validation_data=test_ds)"
   ]
  },
  {
   "cell_type": "code",
   "execution_count": null,
   "metadata": {},
   "outputs": [
    {
     "name": "stdout",
     "output_type": "stream",
     "text": [
      "Epoch 1/5\n",
      "1875/1875 [==============================] - 91s 48ms/step - loss: 0.1536 - accuracy: 0.9467 - val_loss: 0.0607 - val_accuracy: 0.9801\n",
      "Epoch 2/5\n",
      "1875/1875 [==============================] - 95s 51ms/step - loss: 0.0631 - accuracy: 0.9761 - val_loss: 0.0483 - val_accuracy: 0.9841\n",
      "Epoch 3/5\n",
      "1875/1875 [==============================] - 90s 48ms/step - loss: 0.0433 - accuracy: 0.9833 - val_loss: 0.0500 - val_accuracy: 0.9853\n",
      "Epoch 4/5\n",
      "1875/1875 [==============================] - 92s 49ms/step - loss: 0.0306 - accuracy: 0.9875 - val_loss: 0.0578 - val_accuracy: 0.9842\n",
      "Epoch 5/5\n",
      " 375/1875 [=====>........................] - ETA: 1:10 - loss: 0.0219 - accuracy: 0.9908"
     ]
    }
   ],
   "source": [
    "sam_model.compile(optimizer=tf.keras.optimizers.RMSprop(learning_rate=0.001, rho=0.9, momentum=0.0, epsilon=1e-07, centered=False),\n",
    "                  loss=tf.keras.losses.SparseCategoricalCrossentropy(from_logits=True),\n",
    "                  metrics=['accuracy'])\n",
    "sam_model.fit(train_ds,\n",
    "              epochs=5,\n",
    "              validation_data=test_ds)"
   ]
  }
 ],
 "metadata": {
  "kernelspec": {
   "display_name": "Python 3 (ipykernel)",
   "language": "python",
   "name": "python3"
  },
  "language_info": {
   "codemirror_mode": {
    "name": "ipython",
    "version": 3
   },
   "file_extension": ".py",
   "mimetype": "text/x-python",
   "name": "python",
   "nbconvert_exporter": "python",
   "pygments_lexer": "ipython3",
   "version": "3.9.7"
  }
 },
 "nbformat": 4,
 "nbformat_minor": 4
}
